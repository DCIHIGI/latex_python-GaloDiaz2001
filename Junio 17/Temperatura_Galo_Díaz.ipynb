{
  "nbformat": 4,
  "nbformat_minor": 0,
  "metadata": {
    "colab": {
      "name": "Temperatura Galo Díaz.ipynb",
      "provenance": [],
      "collapsed_sections": []
    },
    "kernelspec": {
      "name": "python3",
      "display_name": "Python 3"
    },
    "language_info": {
      "name": "python"
    }
  },
  "cells": [
    {
      "cell_type": "code",
      "metadata": {
        "id": "5Kba-RRV9ubb"
      },
      "source": [
        "import numpy as np\n",
        "import matplotlib.pyplot as plt\n",
        "import pandas as pd\n",
        "from scipy.optimize import minimize\n",
        "import os\n",
        "import glob\n",
        "import re\n",
        "import math as math\n",
        "import xlrd as xlrd"
      ],
      "execution_count": null,
      "outputs": []
    },
    {
      "cell_type": "code",
      "metadata": {
        "id": "adfY9sjO-gBp"
      },
      "source": [
        "files=glob.glob(\"./Temperatura/*.xlsx\")\n"
      ],
      "execution_count": null,
      "outputs": []
    },
    {
      "cell_type": "code",
      "metadata": {
        "colab": {
          "base_uri": "https://localhost:8080/"
        },
        "id": "y5RB5uZvFarI",
        "outputId": "f40e607d-0d71-4b3b-f58d-7ece4b1984c9"
      },
      "source": [
        "files"
      ],
      "execution_count": null,
      "outputs": [
        {
          "output_type": "execute_result",
          "data": {
            "text/plain": [
              "['./Temperatura/2004Tmed.xlsx',\n",
              " './Temperatura/2003Tmed.xlsx',\n",
              " './Temperatura/1999Tmed.xlsx',\n",
              " './Temperatura/2006Tmed.xlsx',\n",
              " './Temperatura/2014Tmed.xlsx',\n",
              " './Temperatura/2007Tmed.xlsx',\n",
              " './Temperatura/1989Tmed.xlsx',\n",
              " './Temperatura/2019Tmed.xlsx',\n",
              " './Temperatura/2015Tmed.xlsx',\n",
              " './Temperatura/1994Tmed.xlsx',\n",
              " './Temperatura/2000Tmed.xlsx',\n",
              " './Temperatura/1993Tmed.xlsx',\n",
              " './Temperatura/1987Tmed.xlsx',\n",
              " './Temperatura/2002Tmed.xlsx',\n",
              " './Temperatura/1985Tmed.xlsx',\n",
              " './Temperatura/2001Tmed.xlsx',\n",
              " './Temperatura/1986Tmed.xlsx',\n",
              " './Temperatura/1996Tmed.xlsx',\n",
              " './Temperatura/1997Tmed.xlsx',\n",
              " './Temperatura/2008Tmed.xlsx',\n",
              " './Temperatura/1992Tmed.xlsx',\n",
              " './Temperatura/2013Tmed.xlsx',\n",
              " './Temperatura/2010Tmed.xlsx',\n",
              " './Temperatura/1998Tmed.xlsx',\n",
              " './Temperatura/2016Tmed.xlsx',\n",
              " './Temperatura/2011Tmed.xlsx',\n",
              " './Temperatura/1990Tmed.xlsx',\n",
              " './Temperatura/2005Tmed.xlsx',\n",
              " './Temperatura/2018Tmed.xlsx',\n",
              " './Temperatura/1995Tmed.xlsx',\n",
              " './Temperatura/2009Tmed.xlsx',\n",
              " './Temperatura/1988Tmed.xlsx',\n",
              " './Temperatura/1991Tmed.xlsx',\n",
              " './Temperatura/2012Tmed.xlsx',\n",
              " './Temperatura/2017Tmed.xlsx']"
            ]
          },
          "metadata": {
            "tags": []
          },
          "execution_count": 9
        }
      ]
    },
    {
      "cell_type": "code",
      "metadata": {
        "id": "oieHty54OZVM"
      },
      "source": [
        "data20=pd.read_excel(files[0],usecols=[13],header=0,skiprows=[0,1,2,3,4,5,6,7,8,9,10,11,12,13,14,15,16,17,18,19,20,21,22,23,24,25,26,27,28,29,30,31,32,33])\n",
        "data19=pd.read_excel(files[1],usecols=[13],header=0,skiprows=[0,1,2,3,4,5,6,7,8,9,10,11,12,13,14,15,16,17,18,19,20,21,22,23,24,25,26,27,28,29,30,31,32,33])\n",
        "data15=pd.read_excel(files[2],usecols=[13],header=0,skiprows=[0,1,2,3,4,5,6,7,8,9,10,11,12,13,14,15,16,17,18,19,20,21,22,23,24,25,26,27,28,29,30,31,32,33])\n",
        "data22=pd.read_excel(files[3],usecols=[13],header=0,skiprows=[0,1,2,3,4,5,6,7,8,9,10,11,12,13,14,15,16,17,18,19,20,21,22,23,24,25,26,27,28,29,30,31,32,33])\n",
        "data30=pd.read_excel(files[4],usecols=[13],header=0,skiprows=[0,1,2,3,4,5,6,7,8,9,10,11,12,13,14,15,16,17,18,19,20,21,22,23,24,25,26,27,28,29,30,31,32,33])\n",
        "data23=pd.read_excel(files[5],usecols=[13],header=0,skiprows=[0,1,2,3,4,5,6,7,8,9,10,11,12,13,14,15,16,17,18,19,20,21,22,23,24,25,26,27,28,29,30,31,32,33])\n",
        "data5=pd.read_excel(files[6],usecols=[13],header=0,skiprows=[0,1,2,3,4,5,6,7,8,9,10,11,12,13,14,15,16,17,18,19,20,21,22,23,24,25,26,27,28,29,30,31,32,33])\n",
        "data35=pd.read_excel(files[7],usecols=[13],header=0,skiprows=[0,1,2,3,4,5,6,7,8,9,10,11,12,13,14,15,16,17,18,19,20,21,22,23,24,25,26,27,28,29,30,31,32,33])\n",
        "data31=pd.read_excel(files[8],usecols=[13],header=0,skiprows=[0,1,2,3,4,5,6,7,8,9,10,11,12,13,14,15,16,17,18,19,20,21,22,23,24,25,26,27,28,29,30,31,32,33])\n",
        "data10=pd.read_excel(files[9],usecols=[13],header=0,skiprows=[0,1,2,3,4,5,6,7,8,9,10,11,12,13,14,15,16,17,18,19,20,21,22,23,24,25,26,27,28,29,30,31,32,33])\n",
        "data16=pd.read_excel(files[10],usecols=[13],header=0,skiprows=[0,1,2,3,4,5,6,7,8,9,10,11,12,13,14,15,16,17,18,19,20,21,22,23,24,25,26,27,28,29,30,31,32,33])\n",
        "data9=pd.read_excel(files[11],usecols=[13],header=0,skiprows=[0,1,2,3,4,5,6,7,8,9,10,11,12,13,14,15,16,17,18,19,20,21,22,23,24,25,26,27,28,29,30,31,32,33])\n",
        "data3=pd.read_excel(files[12],usecols=[13],header=0,skiprows=[0,1,2,3,4,5,6,7,8,9,10,11,12,13,14,15,16,17,18,19,20,21,22,23,24,25,26,27,28,29,30,31,32,33])\n",
        "data18=pd.read_excel(files[13],usecols=[13],header=0,skiprows=[0,1,2,3,4,5,6,7,8,9,10,11,12,13,14,15,16,17,18,19,20,21,22,23,24,25,26,27,28,29,30,31,32,33])\n",
        "data1=pd.read_excel(files[14],usecols=[13],header=0,skiprows=[0,1,2,3,4,5,6,7,8,9,10,11,12,13,14,15,16,17,18,19,20,21,22,23,24,25,26,27,28,29,30,31,32,33])\n",
        "data17=pd.read_excel(files[15],usecols=[13],header=0,skiprows=[0,1,2,3,4,5,6,7,8,9,10,11,12,13,14,15,16,17,18,19,20,21,22,23,24,25,26,27,28,29,30,31,32,33])\n",
        "data2=pd.read_excel(files[16],usecols=[13],header=0,skiprows=[0,1,2,3,4,5,6,7,8,9,10,11,12,13,14,15,16,17,18,19,20,21,22,23,24,25,26,27,28,29,30,31,32,33])\n",
        "data12=pd.read_excel(files[17],usecols=[13],header=0,skiprows=[0,1,2,3,4,5,6,7,8,9,10,11,12,13,14,15,16,17,18,19,20,21,22,23,24,25,26,27,28,29,30,31,32,33])\n",
        "data13=pd.read_excel(files[18],usecols=[13],header=0,skiprows=[0,1,2,3,4,5,6,7,8,9,10,11,12,13,14,15,16,17,18,19,20,21,22,23,24,25,26,27,28,29,30,31,32,33])\n",
        "data24=pd.read_excel(files[19],usecols=[13],header=0,skiprows=[0,1,2,3,4,5,6,7,8,9,10,11,12,13,14,15,16,17,18,19,20,21,22,23,24,25,26,27,28,29,30,31,32,33])\n",
        "data8=pd.read_excel(files[20],usecols=[13],header=0,skiprows=[0,1,2,3,4,5,6,7,8,9,10,11,12,13,14,15,16,17,18,19,20,21,22,23,24,25,26,27,28,29,30,31,32,33])\n",
        "data29=pd.read_excel(files[21],usecols=[13],header=0,skiprows=[0,1,2,3,4,5,6,7,8,9,10,11,12,13,14,15,16,17,18,19,20,21,22,23,24,25,26,27,28,29,30,31,32,33])\n",
        "data26=pd.read_excel(files[22],usecols=[13],header=0,skiprows=[0,1,2,3,4,5,6,7,8,9,10,11,12,13,14,15,16,17,18,19,20,21,22,23,24,25,26,27,28,29,30,31,32,33])\n",
        "data14=pd.read_excel(files[23],usecols=[13],header=0,skiprows=[0,1,2,3,4,5,6,7,8,9,10,11,12,13,14,15,16,17,18,19,20,21,22,23,24,25,26,27,28,29,30,31,32,33])\n",
        "data32=pd.read_excel(files[24],usecols=[13],header=0,skiprows=[0,1,2,3,4,5,6,7,8,9,10,11,12,13,14,15,16,17,18,19,20,21,22,23,24,25,26,27,28,29,30,31,32,33])\n",
        "data27=pd.read_excel(files[25],usecols=[13],header=0,skiprows=[0,1,2,3,4,5,6,7,8,9,10,11,12,13,14,15,16,17,18,19,20,21,22,23,24,25,26,27,28,29,30,31,32,33])\n",
        "data6=pd.read_excel(files[26],usecols=[13],header=0,skiprows=[0,1,2,3,4,5,6,7,8,9,10,11,12,13,14,15,16,17,18,19,20,21,22,23,24,25,26,27,28,29,30,31,32,33])\n",
        "data21=pd.read_excel(files[27],usecols=[13],header=0,skiprows=[0,1,2,3,4,5,6,7,8,9,10,11,12,13,14,15,16,17,18,19,20,21,22,23,24,25,26,27,28,29,30,31,32,33])\n",
        "data34=pd.read_excel(files[28],usecols=[13],header=0,skiprows=[0,1,2,3,4,5,6,7,8,9,10,11,12,13,14,15,16,17,18,19,20,21,22,23,24,25,26,27,28,29,30,31,32,33])\n",
        "data11=pd.read_excel(files[29],usecols=[13],header=0,skiprows=[0,1,2,3,4,5,6,7,8,9,10,11,12,13,14,15,16,17,18,19,20,21,22,23,24,25,26,27,28,29,30,31,32,33])\n",
        "data25=pd.read_excel(files[30],usecols=[13],header=0,skiprows=[0,1,2,3,4,5,6,7,8,9,10,11,12,13,14,15,16,17,18,19,20,21,22,23,24,25,26,27,28,29,30,31,32,33])\n",
        "data4=pd.read_excel(files[31],usecols=[13],header=0,skiprows=[0,1,2,3,4,5,6,7,8,9,10,11,12,13,14,15,16,17,18,19,20,21,22,23,24,25,26,27,28,29,30,31,32,33])\n",
        "data7=pd.read_excel(files[32],usecols=[13],header=0,skiprows=[0,1,2,3,4,5,6,7,8,9,10,11,12,13,14,15,16,17,18,19,20,21,22,23,24,25,26,27,28,29,30,31,32,33])\n",
        "data28=pd.read_excel(files[33],usecols=[13],header=0,skiprows=[0,1,2,3,4,5,6,7,8,9,10,11,12,13,14,15,16,17,18,19,20,21,22,23,24,25,26,27,28,29,30,31,32,33])\n",
        "data33=pd.read_excel(files[34],usecols=[13],header=0,skiprows=[0,1,2,3,4,5,6,7,8,9,10,11,12,13,14,15,16,17,18,19,20,21,22,23,24,25,26,27,28,29,30,31,32,33])\n"
      ],
      "execution_count": null,
      "outputs": []
    },
    {
      "cell_type": "code",
      "metadata": {
        "colab": {
          "base_uri": "https://localhost:8080/",
          "height": 49
        },
        "id": "hj21LG6iqmSv",
        "outputId": "e667cc10-17fd-4cd8-8ab6-1a785e69f31f"
      },
      "source": [
        ""
      ],
      "execution_count": null,
      "outputs": [
        {
          "output_type": "execute_result",
          "data": {
            "text/html": [
              "<div>\n",
              "<style scoped>\n",
              "    .dataframe tbody tr th:only-of-type {\n",
              "        vertical-align: middle;\n",
              "    }\n",
              "\n",
              "    .dataframe tbody tr th {\n",
              "        vertical-align: top;\n",
              "    }\n",
              "\n",
              "    .dataframe thead th {\n",
              "        text-align: right;\n",
              "    }\n",
              "</style>\n",
              "<table border=\"1\" class=\"dataframe\">\n",
              "  <thead>\n",
              "    <tr style=\"text-align: right;\">\n",
              "      <th></th>\n",
              "      <th>20.623517</th>\n",
              "    </tr>\n",
              "  </thead>\n",
              "  <tbody>\n",
              "  </tbody>\n",
              "</table>\n",
              "</div>"
            ],
            "text/plain": [
              "Empty DataFrame\n",
              "Columns: [20.62351729182591]\n",
              "Index: []"
            ]
          },
          "metadata": {
            "tags": []
          },
          "execution_count": 204
        }
      ]
    },
    {
      "cell_type": "code",
      "metadata": {
        "id": "1Gf-sUMtUH50"
      },
      "source": [
        "\n",
        "tem1=np.unique(data1)\n",
        "tem2=np.unique(data2)\n",
        "tem3=np.unique(data3)\n",
        "tem4=np.unique(data4)\n",
        "tem5=np.unique(data5)\n",
        "tem6=np.unique(data6)\n",
        "tem7=np.unique(data7)\n",
        "tem8=np.unique(data8)\n",
        "tem9=np.unique(data9)\n",
        "tem10=np.unique(data10)\n",
        "tem11=np.unique(data11)\n",
        "tem12=np.unique(data12)\n",
        "tem13=np.unique(data13)\n",
        "tem14=np.unique(data14)\n",
        "tem15=np.unique(data15)\n",
        "tem16=np.unique(data16)\n",
        "tem17=np.unique(data17)\n",
        "tem18=np.unique(data18)\n",
        "tem19=np.unique(data19)\n",
        "tem20=np.unique(data20)\n",
        "tem21=np.unique(data21)\n",
        "tem22=np.unique(data22)\n",
        "tem23=np.unique(data23)\n",
        "tem24=np.unique(data24)\n",
        "tem25=np.unique(data25)\n",
        "tem26=np.unique(data26)\n",
        "tem27=np.unique(data27)\n",
        "tem28=np.unique(data28)\n",
        "tem29=np.unique(data29)\n",
        "tem30=np.unique(data30)\n",
        "tem31=np.unique(data31)\n",
        "tem32=np.unique(data32)\n",
        "tem33=np.unique(data33)\n",
        "tem34=np.unique(data34)"
      ],
      "execution_count": null,
      "outputs": []
    },
    {
      "cell_type": "code",
      "metadata": {
        "colab": {
          "base_uri": "https://localhost:8080/",
          "height": 49
        },
        "id": "_CQh27obpiAk",
        "outputId": "0169083a-7f46-4d7d-b2c3-2b3e09faa846"
      },
      "source": [
        "data34"
      ],
      "execution_count": null,
      "outputs": [
        {
          "output_type": "execute_result",
          "data": {
            "text/html": [
              "<div>\n",
              "<style scoped>\n",
              "    .dataframe tbody tr th:only-of-type {\n",
              "        vertical-align: middle;\n",
              "    }\n",
              "\n",
              "    .dataframe tbody tr th {\n",
              "        vertical-align: top;\n",
              "    }\n",
              "\n",
              "    .dataframe thead th {\n",
              "        text-align: right;\n",
              "    }\n",
              "</style>\n",
              "<table border=\"1\" class=\"dataframe\">\n",
              "  <thead>\n",
              "    <tr style=\"text-align: right;\">\n",
              "      <th></th>\n",
              "      <th>22.208333</th>\n",
              "    </tr>\n",
              "  </thead>\n",
              "  <tbody>\n",
              "  </tbody>\n",
              "</table>\n",
              "</div>"
            ],
            "text/plain": [
              "Empty DataFrame\n",
              "Columns: [22.208333333333332]\n",
              "Index: []"
            ]
          },
          "metadata": {
            "tags": []
          },
          "execution_count": 208
        }
      ]
    },
    {
      "cell_type": "code",
      "metadata": {
        "colab": {
          "base_uri": "https://localhost:8080/",
          "height": 69
        },
        "id": "Qm5DKpA1xJgs",
        "outputId": "61975d09-b755-4b4f-e95e-584d4d30d835"
      },
      "source": [
        "Tem_N=[]\n",
        "Tem_N=data1+data2+data3+data4+data5+data6+data7+data8+data9+data10+data11+data12+data13+data14+data15+data16+data17+data18+data19+data20+data21+data22+data23+data24+data25+data26+data27+data28+data29+data30+data31+data32+data33+data34\n",
        "Tem_N"
      ],
      "execution_count": null,
      "outputs": [
        {
          "output_type": "execute_result",
          "data": {
            "text/html": [
              "<div>\n",
              "<style scoped>\n",
              "    .dataframe tbody tr th:only-of-type {\n",
              "        vertical-align: middle;\n",
              "    }\n",
              "\n",
              "    .dataframe tbody tr th {\n",
              "        vertical-align: top;\n",
              "    }\n",
              "\n",
              "    .dataframe thead th {\n",
              "        text-align: right;\n",
              "    }\n",
              "</style>\n",
              "<table border=\"1\" class=\"dataframe\">\n",
              "  <thead>\n",
              "    <tr style=\"text-align: right;\">\n",
              "      <th></th>\n",
              "      <th>20.440340</th>\n",
              "      <th>20.441038</th>\n",
              "      <th>20.459264</th>\n",
              "      <th>20.592096</th>\n",
              "      <th>20.597726</th>\n",
              "      <th>20.623517</th>\n",
              "      <th>20.722723</th>\n",
              "      <th>20.727411</th>\n",
              "      <th>20.743932</th>\n",
              "      <th>20.747067</th>\n",
              "      <th>20.749099</th>\n",
              "      <th>20.801480</th>\n",
              "      <th>20.816391</th>\n",
              "      <th>20.828869</th>\n",
              "      <th>20.867124</th>\n",
              "      <th>20.936534</th>\n",
              "      <th>20.955060</th>\n",
              "      <th>21.000000</th>\n",
              "      <th>21.130253</th>\n",
              "      <th>21.173363</th>\n",
              "      <th>21.239854</th>\n",
              "      <th>21.366667</th>\n",
              "      <th>21.391637</th>\n",
              "      <th>21.776355</th>\n",
              "      <th>21.779167</th>\n",
              "      <th>21.820833</th>\n",
              "      <th>21.866667</th>\n",
              "      <th>21.911281</th>\n",
              "      <th>21.925000</th>\n",
              "      <th>22.075000</th>\n",
              "      <th>22.100000</th>\n",
              "      <th>22.208333</th>\n",
              "      <th>22.433333</th>\n",
              "      <th>22.550000</th>\n",
              "    </tr>\n",
              "  </thead>\n",
              "  <tbody>\n",
              "  </tbody>\n",
              "</table>\n",
              "</div>"
            ],
            "text/plain": [
              "Empty DataFrame\n",
              "Columns: [20.440339799042764, 20.441038282402797, 20.459263824788806, 20.59209638175636, 20.59772647680587, 20.62351729182591, 20.722722573669383, 20.727411173354348, 20.743932117829093, 20.74706685307695, 20.749098578286166, 20.80147971898946, 20.816391273666433, 20.82886851745323, 20.867123761767374, 20.936533695760417, 20.95505960627942, 21.0, 21.1302532416626, 21.17336335224896, 21.239853828434825, 21.366666666666664, 21.391636914926405, 21.776355139220556, 21.779166666666665, 21.820833333333336, 21.86666666666667, 21.911280703100715, 21.925, 22.075000000000003, 22.1, 22.208333333333332, 22.433333333333334, 22.55]\n",
              "Index: []"
            ]
          },
          "metadata": {
            "tags": []
          },
          "execution_count": 12
        }
      ]
    },
    {
      "cell_type": "code",
      "metadata": {
        "colab": {
          "base_uri": "https://localhost:8080/",
          "height": 69
        },
        "id": "0KYAjhqylGX5",
        "outputId": "b61dfbf4-8a6c-4fbf-c067-cd7afc38ce0f"
      },
      "source": [
        "df_temN=pd.DataFrame(Tem_N)\n",
        "df_temN"
      ],
      "execution_count": null,
      "outputs": [
        {
          "output_type": "execute_result",
          "data": {
            "text/html": [
              "<div>\n",
              "<style scoped>\n",
              "    .dataframe tbody tr th:only-of-type {\n",
              "        vertical-align: middle;\n",
              "    }\n",
              "\n",
              "    .dataframe tbody tr th {\n",
              "        vertical-align: top;\n",
              "    }\n",
              "\n",
              "    .dataframe thead th {\n",
              "        text-align: right;\n",
              "    }\n",
              "</style>\n",
              "<table border=\"1\" class=\"dataframe\">\n",
              "  <thead>\n",
              "    <tr style=\"text-align: right;\">\n",
              "      <th></th>\n",
              "      <th>20.440340</th>\n",
              "      <th>20.441038</th>\n",
              "      <th>20.459264</th>\n",
              "      <th>20.592096</th>\n",
              "      <th>20.597726</th>\n",
              "      <th>20.623517</th>\n",
              "      <th>20.722723</th>\n",
              "      <th>20.727411</th>\n",
              "      <th>20.743932</th>\n",
              "      <th>20.747067</th>\n",
              "      <th>20.749099</th>\n",
              "      <th>20.801480</th>\n",
              "      <th>20.816391</th>\n",
              "      <th>20.828869</th>\n",
              "      <th>20.867124</th>\n",
              "      <th>20.936534</th>\n",
              "      <th>20.955060</th>\n",
              "      <th>21.000000</th>\n",
              "      <th>21.130253</th>\n",
              "      <th>21.173363</th>\n",
              "      <th>21.239854</th>\n",
              "      <th>21.366667</th>\n",
              "      <th>21.391637</th>\n",
              "      <th>21.776355</th>\n",
              "      <th>21.779167</th>\n",
              "      <th>21.820833</th>\n",
              "      <th>21.866667</th>\n",
              "      <th>21.911281</th>\n",
              "      <th>21.925000</th>\n",
              "      <th>22.075000</th>\n",
              "      <th>22.100000</th>\n",
              "      <th>22.208333</th>\n",
              "      <th>22.433333</th>\n",
              "      <th>22.550000</th>\n",
              "    </tr>\n",
              "  </thead>\n",
              "  <tbody>\n",
              "  </tbody>\n",
              "</table>\n",
              "</div>"
            ],
            "text/plain": [
              "Empty DataFrame\n",
              "Columns: [20.440339799042764, 20.441038282402797, 20.459263824788806, 20.59209638175636, 20.59772647680587, 20.62351729182591, 20.722722573669383, 20.727411173354348, 20.743932117829093, 20.74706685307695, 20.749098578286166, 20.80147971898946, 20.816391273666433, 20.82886851745323, 20.867123761767374, 20.936533695760417, 20.95505960627942, 21.0, 21.1302532416626, 21.17336335224896, 21.239853828434825, 21.366666666666664, 21.391636914926405, 21.776355139220556, 21.779166666666665, 21.820833333333336, 21.86666666666667, 21.911280703100715, 21.925, 22.075000000000003, 22.1, 22.208333333333332, 22.433333333333334, 22.55]\n",
              "Index: []"
            ]
          },
          "metadata": {
            "tags": []
          },
          "execution_count": 13
        }
      ]
    },
    {
      "cell_type": "code",
      "metadata": {
        "colab": {
          "base_uri": "https://localhost:8080/"
        },
        "id": "Qj4bGfkM4Bgw",
        "outputId": "9067dede-2bbf-405c-e337-f713e754b027"
      },
      "source": [
        "arr_temNn= np.array((20.440340,\t20.441038, 20.459264,\t20.592096, 20.597726,\t20.623517,\t20.722723,\t20.727411,\t20.743932,\t20.747067,\t20.749099,\t20.801480,\t20.816391,\t20.828869,\t20.867124,\t20.936534,\t20.955060,\t21.000000,\t21.130253,\t21.173363,\t21.239854,\t21.366667,\t21.391637,\t21.776355,\t21.779167,\t21.820833,\t21.866667,\t21.911281,\t21.925000,\t22.075000,\t22.100000,\t22.208333,\t22.433333,\t22.550000))\n",
        "arr_temNn.dtype\n",
        "arr_temNn"
      ],
      "execution_count": null,
      "outputs": [
        {
          "output_type": "execute_result",
          "data": {
            "text/plain": [
              "array([20.44034 , 20.441038, 20.459264, 20.592096, 20.597726, 20.623517,\n",
              "       20.722723, 20.727411, 20.743932, 20.747067, 20.749099, 20.80148 ,\n",
              "       20.816391, 20.828869, 20.867124, 20.936534, 20.95506 , 21.      ,\n",
              "       21.130253, 21.173363, 21.239854, 21.366667, 21.391637, 21.776355,\n",
              "       21.779167, 21.820833, 21.866667, 21.911281, 21.925   , 22.075   ,\n",
              "       22.1     , 22.208333, 22.433333, 22.55    ])"
            ]
          },
          "metadata": {
            "tags": []
          },
          "execution_count": 14
        }
      ]
    },
    {
      "cell_type": "code",
      "metadata": {
        "id": "IaLDEelE4iAB"
      },
      "source": [
        ""
      ],
      "execution_count": null,
      "outputs": []
    },
    {
      "cell_type": "code",
      "metadata": {
        "colab": {
          "base_uri": "https://localhost:8080/",
          "height": 454
        },
        "id": "I0kX4s8_1JMR",
        "outputId": "b2f45cd8-b07e-41c5-c6dd-25c57038eb0d"
      },
      "source": [
        "plt.figure(figsize=(20,10))\n",
        "plt.plot(arr_temNn)\n",
        "plt.ylabel('TEMPERATURA ANUAL PROMEDIO')"
      ],
      "execution_count": null,
      "outputs": [
        {
          "output_type": "execute_result",
          "data": {
            "text/plain": [
              "Text(0, 0.5, 'TEMPERATURA ANUAL PROMEDIO')"
            ]
          },
          "metadata": {
            "tags": []
          },
          "execution_count": 15
        },
        {
          "output_type": "display_data",
          "data": {
            "image/png": "[encoded data removed]",
            "text/plain": [
              "<Figure size 1440x720 with 1 Axes>"
            ]
          },
          "metadata": {
            "tags": [],
            "needs_background": "light"
          }
        }
      ]
    },
    {
      "cell_type": "code",
      "metadata": {
        "colab": {
          "base_uri": "https://localhost:8080/"
        },
        "id": "uspScecE7RUm",
        "outputId": "00fa7458-2699-4aae-bc6d-edd9e1ced9a2"
      },
      "source": [
        "arr_temNn[33]"
      ],
      "execution_count": null,
      "outputs": [
        {
          "output_type": "execute_result",
          "data": {
            "text/plain": [
              "22.55"
            ]
          },
          "metadata": {
            "tags": []
          },
          "execution_count": 17
        }
      ]
    },
    {
      "cell_type": "code",
      "metadata": {
        "id": "QwcSaZmx8q9p"
      },
      "source": [
        "xx= np.array((0,1,2,3,4,5,6,7,8,9,10,11,12,13,14,15,16,17,18,19,20,21,22,23,24,25,26,27,28,29,20,31,32,33))\n"
      ],
      "execution_count": null,
      "outputs": []
    },
    {
      "cell_type": "code",
      "metadata": {
        "colab": {
          "base_uri": "https://localhost:8080/"
        },
        "id": "ModxYNi26kG5",
        "outputId": "42a679e6-8501-4b68-defa-487f43681717"
      },
      "source": [
        "\n",
        "x= np.array((0,1,2,3,4,5,6,7,8,9,10,11,12,13,14,15,16,17,18,19,20,21,22,23,24,25,26,27,28,29,20,31,32,33))\n",
        "y=arr_temNn\n",
        "z = np.polyfit(x, y, 1)\n",
        "z\n",
        "   "
      ],
      "execution_count": null,
      "outputs": [
        {
          "output_type": "execute_result",
          "data": {
            "text/plain": [
              "array([ 0.06170171, 20.22940512])"
            ]
          },
          "metadata": {
            "tags": []
          },
          "execution_count": 18
        }
      ]
    },
    {
      "cell_type": "code",
      "metadata": {
        "colab": {
          "base_uri": "https://localhost:8080/"
        },
        "id": "yhMuukCp97Va",
        "outputId": "621e7518-e0e9-4674-ffa5-ebdbd27cdcff"
      },
      "source": [
        "ma,ba=z\n",
        "prediction_tem=[]\n",
        "for i in range(34,54):\n",
        "  pred=ma*(i)+ba\n",
        "  prediction_tem.append(pred) \n",
        "prediction_tem"
      ],
      "execution_count": null,
      "outputs": [
        {
          "output_type": "execute_result",
          "data": {
            "text/plain": [
              "[22.327263114579868,\n",
              " 22.38896482019262,\n",
              " 22.450666525805374,\n",
              " 22.512368231418126,\n",
              " 22.57406993703088,\n",
              " 22.635771642643633,\n",
              " 22.697473348256388,\n",
              " 22.75917505386914,\n",
              " 22.820876759481894,\n",
              " 22.882578465094646,\n",
              " 22.9442801707074,\n",
              " 23.005981876320153,\n",
              " 23.067683581932908,\n",
              " 23.12938528754566,\n",
              " 23.191086993158414,\n",
              " 23.25278869877117,\n",
              " 23.31449040438392,\n",
              " 23.376192109996673,\n",
              " 23.437893815609428,\n",
              " 23.499595521222183]"
            ]
          },
          "metadata": {
            "tags": []
          },
          "execution_count": 19
        }
      ]
    },
    {
      "cell_type": "code",
      "metadata": {
        "colab": {
          "base_uri": "https://localhost:8080/",
          "height": 454
        },
        "id": "L7sOBXaaNl16",
        "outputId": "b8481f77-360c-4a40-8ebe-f8466cb4077e"
      },
      "source": [
        "plt.figure(figsize=(20,10))\n",
        "plt.plot(prediction_tem)\n",
        "plt.ylabel('PREDICCION 2019-2029')"
      ],
      "execution_count": null,
      "outputs": [
        {
          "output_type": "execute_result",
          "data": {
            "text/plain": [
              "Text(0, 0.5, 'PREDICCION 2019-2029')"
            ]
          },
          "metadata": {
            "tags": []
          },
          "execution_count": 20
        },
        {
          "output_type": "display_data",
          "data": {
            "image/png": "[encoded data removed]",
            "text/plain": [
              "<Figure size 1440x720 with 1 Axes>"
            ]
          },
          "metadata": {
            "tags": [],
            "needs_background": "light"
          }
        }
      ]
    },
    {
      "cell_type": "code",
      "metadata": {
        "id": "Hlj9PdIW94Wy",
        "colab": {
          "base_uri": "https://localhost:8080/"
        },
        "outputId": "81e1c7ea-6c7c-4dd1-8a46-6d8e67737715"
      },
      "source": [
        "Emisiones=glob.glob(\"./Gases/*.xlsx\")\n",
        "Emisiones"
      ],
      "execution_count": null,
      "outputs": [
        {
          "output_type": "execute_result",
          "data": {
            "text/plain": [
              "['./Gases/Emisiones.xlsx']"
            ]
          },
          "metadata": {
            "tags": []
          },
          "execution_count": 22
        }
      ]
    },
    {
      "cell_type": "code",
      "metadata": {
        "colab": {
          "base_uri": "https://localhost:8080/",
          "height": 439
        },
        "id": "7vahPFBHQpF4",
        "outputId": "2f02efba-f4d6-4c34-c561-ddd201587426"
      },
      "source": [
        "dataE=pd.read_excel(Emisiones[0])\n",
        "dataE"
      ],
      "execution_count": null,
      "outputs": [
        {
          "output_type": "execute_result",
          "data": {
            "text/html": [
              "<div>\n",
              "<style scoped>\n",
              "    .dataframe tbody tr th:only-of-type {\n",
              "        vertical-align: middle;\n",
              "    }\n",
              "\n",
              "    .dataframe tbody tr th {\n",
              "        vertical-align: top;\n",
              "    }\n",
              "\n",
              "    .dataframe thead th {\n",
              "        text-align: right;\n",
              "    }\n",
              "</style>\n",
              "<table border=\"1\" class=\"dataframe\">\n",
              "  <thead>\n",
              "    <tr style=\"text-align: right;\">\n",
              "      <th></th>\n",
              "      <th>Pais</th>\n",
              "      <th>1985</th>\n",
              "      <th>1986</th>\n",
              "      <th>1987</th>\n",
              "      <th>1988</th>\n",
              "      <th>1989</th>\n",
              "      <th>1990</th>\n",
              "      <th>1991</th>\n",
              "      <th>1992</th>\n",
              "      <th>1993</th>\n",
              "      <th>1994</th>\n",
              "      <th>1995</th>\n",
              "      <th>1996</th>\n",
              "      <th>1997</th>\n",
              "      <th>1998</th>\n",
              "      <th>1999</th>\n",
              "      <th>2000</th>\n",
              "      <th>2001</th>\n",
              "      <th>2002</th>\n",
              "      <th>2003</th>\n",
              "      <th>2004</th>\n",
              "      <th>2005</th>\n",
              "      <th>2006</th>\n",
              "      <th>2007</th>\n",
              "      <th>2008</th>\n",
              "      <th>2009</th>\n",
              "      <th>2010</th>\n",
              "      <th>2011</th>\n",
              "      <th>2012</th>\n",
              "    </tr>\n",
              "  </thead>\n",
              "  <tbody>\n",
              "    <tr>\n",
              "      <th>0</th>\n",
              "      <td>0</td>\n",
              "      <td>642.147964</td>\n",
              "      <td>435.85886</td>\n",
              "      <td>616.928696</td>\n",
              "      <td>NaN</td>\n",
              "      <td>NaN</td>\n",
              "      <td>NaN</td>\n",
              "      <td>NaN</td>\n",
              "      <td>NaN</td>\n",
              "      <td>NaN</td>\n",
              "      <td>NaN</td>\n",
              "      <td>NaN</td>\n",
              "      <td>NaN</td>\n",
              "      <td>NaN</td>\n",
              "      <td>NaN</td>\n",
              "      <td>NaN</td>\n",
              "      <td>NaN</td>\n",
              "      <td>NaN</td>\n",
              "      <td>NaN</td>\n",
              "      <td>NaN</td>\n",
              "      <td>NaN</td>\n",
              "      <td>NaN</td>\n",
              "      <td>NaN</td>\n",
              "      <td>NaN</td>\n",
              "      <td>NaN</td>\n",
              "      <td>NaN</td>\n",
              "      <td>NaN</td>\n",
              "      <td>NaN</td>\n",
              "      <td>NaN</td>\n",
              "    </tr>\n",
              "    <tr>\n",
              "      <th>1</th>\n",
              "      <td>1</td>\n",
              "      <td>13545.736900</td>\n",
              "      <td>12269.46240</td>\n",
              "      <td>12400.507300</td>\n",
              "      <td>12959.2948</td>\n",
              "      <td>12348.95700</td>\n",
              "      <td>12528.01650</td>\n",
              "      <td>12307.06380</td>\n",
              "      <td>11370.45310</td>\n",
              "      <td>11390.87480</td>\n",
              "      <td>11290.68820</td>\n",
              "      <td>11635.65940</td>\n",
              "      <td>12505.93080</td>\n",
              "      <td>13343.25000</td>\n",
              "      <td>13793.3670</td>\n",
              "      <td>14812.3660</td>\n",
              "      <td>13530.9530</td>\n",
              "      <td>12585.4020</td>\n",
              "      <td>13842.73810</td>\n",
              "      <td>14709.8840</td>\n",
              "      <td>14654.37400</td>\n",
              "      <td>14770.2643</td>\n",
              "      <td>14849.15940</td>\n",
              "      <td>15272.6330</td>\n",
              "      <td>15288.7756</td>\n",
              "      <td>15554.429500</td>\n",
              "      <td>17791.329900</td>\n",
              "      <td>17981.307290</td>\n",
              "      <td>18168.860000</td>\n",
              "    </tr>\n",
              "    <tr>\n",
              "      <th>2</th>\n",
              "      <td>2</td>\n",
              "      <td>36714.190830</td>\n",
              "      <td>35982.41365</td>\n",
              "      <td>46721.257740</td>\n",
              "      <td>35736.7658</td>\n",
              "      <td>39342.98618</td>\n",
              "      <td>50806.54269</td>\n",
              "      <td>43761.08127</td>\n",
              "      <td>64997.83986</td>\n",
              "      <td>39775.10719</td>\n",
              "      <td>44657.24335</td>\n",
              "      <td>48230.29864</td>\n",
              "      <td>47136.21579</td>\n",
              "      <td>33091.22462</td>\n",
              "      <td>35275.1251</td>\n",
              "      <td>36119.4252</td>\n",
              "      <td>34780.6811</td>\n",
              "      <td>34371.8411</td>\n",
              "      <td>34490.36900</td>\n",
              "      <td>35858.0150</td>\n",
              "      <td>36860.23340</td>\n",
              "      <td>35855.7384</td>\n",
              "      <td>36375.82200</td>\n",
              "      <td>36690.5340</td>\n",
              "      <td>37396.2940</td>\n",
              "      <td>38309.465130</td>\n",
              "      <td>40029.392100</td>\n",
              "      <td>40878.651960</td>\n",
              "      <td>41657.164850</td>\n",
              "    </tr>\n",
              "    <tr>\n",
              "      <th>3</th>\n",
              "      <td>3</td>\n",
              "      <td>11821.583100</td>\n",
              "      <td>12079.10500</td>\n",
              "      <td>12175.483200</td>\n",
              "      <td>12603.8867</td>\n",
              "      <td>12552.73690</td>\n",
              "      <td>11112.72956</td>\n",
              "      <td>8273.63240</td>\n",
              "      <td>6227.15320</td>\n",
              "      <td>6067.17990</td>\n",
              "      <td>6793.79630</td>\n",
              "      <td>6421.57130</td>\n",
              "      <td>6187.38410</td>\n",
              "      <td>5500.60700</td>\n",
              "      <td>5246.1311</td>\n",
              "      <td>6493.4872</td>\n",
              "      <td>8389.2767</td>\n",
              "      <td>6820.6244</td>\n",
              "      <td>7503.05976</td>\n",
              "      <td>7834.0157</td>\n",
              "      <td>7401.10155</td>\n",
              "      <td>8308.3856</td>\n",
              "      <td>8027.14955</td>\n",
              "      <td>9879.3935</td>\n",
              "      <td>8136.7850</td>\n",
              "      <td>8108.812387</td>\n",
              "      <td>8506.996034</td>\n",
              "      <td>8712.296365</td>\n",
              "      <td>8898.640911</td>\n",
              "    </tr>\n",
              "    <tr>\n",
              "      <th>4</th>\n",
              "      <td>4</td>\n",
              "      <td>NaN</td>\n",
              "      <td>NaN</td>\n",
              "      <td>NaN</td>\n",
              "      <td>NaN</td>\n",
              "      <td>NaN</td>\n",
              "      <td>NaN</td>\n",
              "      <td>NaN</td>\n",
              "      <td>NaN</td>\n",
              "      <td>NaN</td>\n",
              "      <td>NaN</td>\n",
              "      <td>NaN</td>\n",
              "      <td>NaN</td>\n",
              "      <td>NaN</td>\n",
              "      <td>NaN</td>\n",
              "      <td>NaN</td>\n",
              "      <td>NaN</td>\n",
              "      <td>NaN</td>\n",
              "      <td>NaN</td>\n",
              "      <td>NaN</td>\n",
              "      <td>NaN</td>\n",
              "      <td>NaN</td>\n",
              "      <td>NaN</td>\n",
              "      <td>NaN</td>\n",
              "      <td>NaN</td>\n",
              "      <td>NaN</td>\n",
              "      <td>NaN</td>\n",
              "      <td>NaN</td>\n",
              "      <td>NaN</td>\n",
              "    </tr>\n",
              "    <tr>\n",
              "      <th>...</th>\n",
              "      <td>...</td>\n",
              "      <td>...</td>\n",
              "      <td>...</td>\n",
              "      <td>...</td>\n",
              "      <td>...</td>\n",
              "      <td>...</td>\n",
              "      <td>...</td>\n",
              "      <td>...</td>\n",
              "      <td>...</td>\n",
              "      <td>...</td>\n",
              "      <td>...</td>\n",
              "      <td>...</td>\n",
              "      <td>...</td>\n",
              "      <td>...</td>\n",
              "      <td>...</td>\n",
              "      <td>...</td>\n",
              "      <td>...</td>\n",
              "      <td>...</td>\n",
              "      <td>...</td>\n",
              "      <td>...</td>\n",
              "      <td>...</td>\n",
              "      <td>...</td>\n",
              "      <td>...</td>\n",
              "      <td>...</td>\n",
              "      <td>...</td>\n",
              "      <td>...</td>\n",
              "      <td>...</td>\n",
              "      <td>...</td>\n",
              "      <td>...</td>\n",
              "    </tr>\n",
              "    <tr>\n",
              "      <th>259</th>\n",
              "      <td>259</td>\n",
              "      <td>NaN</td>\n",
              "      <td>NaN</td>\n",
              "      <td>NaN</td>\n",
              "      <td>NaN</td>\n",
              "      <td>NaN</td>\n",
              "      <td>NaN</td>\n",
              "      <td>NaN</td>\n",
              "      <td>NaN</td>\n",
              "      <td>NaN</td>\n",
              "      <td>NaN</td>\n",
              "      <td>NaN</td>\n",
              "      <td>NaN</td>\n",
              "      <td>NaN</td>\n",
              "      <td>NaN</td>\n",
              "      <td>NaN</td>\n",
              "      <td>NaN</td>\n",
              "      <td>NaN</td>\n",
              "      <td>NaN</td>\n",
              "      <td>NaN</td>\n",
              "      <td>NaN</td>\n",
              "      <td>NaN</td>\n",
              "      <td>NaN</td>\n",
              "      <td>NaN</td>\n",
              "      <td>NaN</td>\n",
              "      <td>NaN</td>\n",
              "      <td>NaN</td>\n",
              "      <td>NaN</td>\n",
              "      <td>NaN</td>\n",
              "    </tr>\n",
              "    <tr>\n",
              "      <th>260</th>\n",
              "      <td>260</td>\n",
              "      <td>9605.350600</td>\n",
              "      <td>10010.30320</td>\n",
              "      <td>10103.002600</td>\n",
              "      <td>11644.3834</td>\n",
              "      <td>12042.57500</td>\n",
              "      <td>12850.01340</td>\n",
              "      <td>14536.44773</td>\n",
              "      <td>15337.67187</td>\n",
              "      <td>14603.01360</td>\n",
              "      <td>16621.06553</td>\n",
              "      <td>17884.47327</td>\n",
              "      <td>18386.30430</td>\n",
              "      <td>19676.01703</td>\n",
              "      <td>20869.7911</td>\n",
              "      <td>22895.6985</td>\n",
              "      <td>24225.1802</td>\n",
              "      <td>25210.4164</td>\n",
              "      <td>26580.10330</td>\n",
              "      <td>28983.2226</td>\n",
              "      <td>29514.27800</td>\n",
              "      <td>32666.1890</td>\n",
              "      <td>34959.44600</td>\n",
              "      <td>36225.6250</td>\n",
              "      <td>36800.2260</td>\n",
              "      <td>37027.203950</td>\n",
              "      <td>38865.292430</td>\n",
              "      <td>39949.082160</td>\n",
              "      <td>40924.627690</td>\n",
              "    </tr>\n",
              "    <tr>\n",
              "      <th>261</th>\n",
              "      <td>261</td>\n",
              "      <td>NaN</td>\n",
              "      <td>NaN</td>\n",
              "      <td>NaN</td>\n",
              "      <td>NaN</td>\n",
              "      <td>NaN</td>\n",
              "      <td>349202.00200</td>\n",
              "      <td>343391.11800</td>\n",
              "      <td>353846.54900</td>\n",
              "      <td>347840.72700</td>\n",
              "      <td>355673.58000</td>\n",
              "      <td>371350.20500</td>\n",
              "      <td>383673.27100</td>\n",
              "      <td>403030.55400</td>\n",
              "      <td>457895.8960</td>\n",
              "      <td>430853.8360</td>\n",
              "      <td>420482.7530</td>\n",
              "      <td>416031.2410</td>\n",
              "      <td>434071.07500</td>\n",
              "      <td>456334.1260</td>\n",
              "      <td>472713.79100</td>\n",
              "      <td>498312.8860</td>\n",
              "      <td>480054.73000</td>\n",
              "      <td>502130.2550</td>\n",
              "      <td>NaN</td>\n",
              "      <td>NaN</td>\n",
              "      <td>NaN</td>\n",
              "      <td>NaN</td>\n",
              "      <td>NaN</td>\n",
              "    </tr>\n",
              "    <tr>\n",
              "      <th>262</th>\n",
              "      <td>262</td>\n",
              "      <td>144149.260000</td>\n",
              "      <td>134957.63900</td>\n",
              "      <td>188042.331000</td>\n",
              "      <td>132223.5680</td>\n",
              "      <td>149004.96500</td>\n",
              "      <td>209648.82010</td>\n",
              "      <td>174044.66640</td>\n",
              "      <td>278259.67110</td>\n",
              "      <td>156527.22460</td>\n",
              "      <td>182686.65930</td>\n",
              "      <td>185179.11430</td>\n",
              "      <td>156680.68680</td>\n",
              "      <td>149986.74710</td>\n",
              "      <td>448613.6431</td>\n",
              "      <td>328963.9600</td>\n",
              "      <td>290812.3696</td>\n",
              "      <td>297452.7550</td>\n",
              "      <td>300362.20100</td>\n",
              "      <td>356024.8450</td>\n",
              "      <td>368995.69500</td>\n",
              "      <td>396446.4810</td>\n",
              "      <td>314793.49700</td>\n",
              "      <td>341005.6690</td>\n",
              "      <td>321163.5190</td>\n",
              "      <td>266118.483600</td>\n",
              "      <td>319784.630400</td>\n",
              "      <td>320024.697000</td>\n",
              "      <td>320254.218300</td>\n",
              "    </tr>\n",
              "    <tr>\n",
              "      <th>263</th>\n",
              "      <td>263</td>\n",
              "      <td>23895.775000</td>\n",
              "      <td>26007.14100</td>\n",
              "      <td>28160.267000</td>\n",
              "      <td>29369.6430</td>\n",
              "      <td>30264.47100</td>\n",
              "      <td>35100.59000</td>\n",
              "      <td>34132.52900</td>\n",
              "      <td>38275.97800</td>\n",
              "      <td>30183.41600</td>\n",
              "      <td>30208.73400</td>\n",
              "      <td>30376.98600</td>\n",
              "      <td>30570.23900</td>\n",
              "      <td>29469.42600</td>\n",
              "      <td>76391.8040</td>\n",
              "      <td>66724.6520</td>\n",
              "      <td>51434.5350</td>\n",
              "      <td>58452.5190</td>\n",
              "      <td>50281.89500</td>\n",
              "      <td>48216.9330</td>\n",
              "      <td>61742.54400</td>\n",
              "      <td>59894.6030</td>\n",
              "      <td>55535.28000</td>\n",
              "      <td>60917.8250</td>\n",
              "      <td>68840.7060</td>\n",
              "      <td>67914.131010</td>\n",
              "      <td>71019.116730</td>\n",
              "      <td>71561.952250</td>\n",
              "      <td>72057.803320</td>\n",
              "    </tr>\n",
              "  </tbody>\n",
              "</table>\n",
              "<p>264 rows × 29 columns</p>\n",
              "</div>"
            ],
            "text/plain": [
              "     Pais           1985  ...           2011           2012\n",
              "0       0     642.147964  ...            NaN            NaN\n",
              "1       1   13545.736900  ...   17981.307290   18168.860000\n",
              "2       2   36714.190830  ...   40878.651960   41657.164850\n",
              "3       3   11821.583100  ...    8712.296365    8898.640911\n",
              "4       4            NaN  ...            NaN            NaN\n",
              "..    ...            ...  ...            ...            ...\n",
              "259   259            NaN  ...            NaN            NaN\n",
              "260   260    9605.350600  ...   39949.082160   40924.627690\n",
              "261   261            NaN  ...            NaN            NaN\n",
              "262   262  144149.260000  ...  320024.697000  320254.218300\n",
              "263   263   23895.775000  ...   71561.952250   72057.803320\n",
              "\n",
              "[264 rows x 29 columns]"
            ]
          },
          "metadata": {
            "tags": []
          },
          "execution_count": 27
        }
      ]
    },
    {
      "cell_type": "code",
      "metadata": {
        "id": "FOSgHbTCZxSc"
      },
      "source": [
        ""
      ],
      "execution_count": null,
      "outputs": []
    },
    {
      "cell_type": "code",
      "metadata": {
        "colab": {
          "base_uri": "https://localhost:8080/"
        },
        "id": "v0zBA23NQXtl",
        "outputId": "13e2faae-b479-4451-af14-39a92b6f1297"
      },
      "source": [
        "pais=np.unique(dataE['Pais'])\n",
        "pais"
      ],
      "execution_count": null,
      "outputs": [
        {
          "output_type": "execute_result",
          "data": {
            "text/plain": [
              "array([  0,   1,   2,   3,   4,   5,   6,   7,   8,   9,  10,  11,  12,\n",
              "        13,  14,  15,  16,  17,  18,  19,  20,  21,  22,  23,  24,  25,\n",
              "        26,  27,  28,  29,  30,  31,  32,  33,  34,  35,  36,  37,  38,\n",
              "        39,  40,  41,  42,  43,  44,  45,  46,  47,  48,  49,  50,  51,\n",
              "        52,  53,  54,  55,  56,  57,  58,  59,  60,  61,  62,  63,  64,\n",
              "        65,  66,  67,  68,  69,  70,  71,  72,  73,  74,  75,  76,  77,\n",
              "        78,  79,  80,  81,  82,  83,  84,  85,  86,  87,  88,  89,  90,\n",
              "        91,  92,  93,  94,  95,  96,  97,  98,  99, 100, 101, 102, 103,\n",
              "       104, 105, 106, 107, 108, 109, 110, 111, 112, 113, 114, 115, 116,\n",
              "       117, 118, 119, 120, 121, 122, 123, 124, 125, 126, 127, 128, 129,\n",
              "       130, 131, 132, 133, 134, 135, 136, 137, 138, 139, 140, 141, 142,\n",
              "       143, 144, 145, 146, 147, 148, 149, 150, 151, 152, 153, 154, 155,\n",
              "       156, 157, 158, 159, 160, 161, 162, 163, 164, 165, 166, 167, 168,\n",
              "       169, 170, 171, 172, 173, 174, 175, 176, 177, 178, 179, 180, 181,\n",
              "       182, 183, 184, 185, 186, 187, 188, 189, 190, 191, 192, 193, 194,\n",
              "       195, 196, 197, 198, 199, 200, 201, 202, 203, 204, 205, 206, 207,\n",
              "       208, 209, 210, 211, 212, 213, 214, 215, 216, 217, 218, 219, 220,\n",
              "       221, 222, 223, 224, 225, 226, 227, 228, 229, 230, 231, 232, 233,\n",
              "       234, 235, 236, 237, 238, 239, 240, 241, 242, 243, 244, 245, 246,\n",
              "       247, 248, 249, 250, 251, 252, 253, 254, 255, 256, 257, 258, 259,\n",
              "       260, 261, 262, 263])"
            ]
          },
          "metadata": {
            "tags": []
          },
          "execution_count": 28
        }
      ]
    },
    {
      "cell_type": "code",
      "metadata": {
        "id": "tr-87DQhSJE7"
      },
      "source": [
        "year=np.array((0,1,2,3,4,5,6,7,8,9,10,11,12,13,14,15,16,17,18,19,20,21,22,23,24,25,26,27,28))"
      ],
      "execution_count": null,
      "outputs": []
    },
    {
      "cell_type": "code",
      "metadata": {
        "colab": {
          "base_uri": "https://localhost:8080/",
          "height": 439
        },
        "id": "p4BdWaFQTn1j",
        "outputId": "07418344-82cc-4cb5-da15-cab6eba413b6"
      },
      "source": [
        "dataE"
      ],
      "execution_count": null,
      "outputs": [
        {
          "output_type": "execute_result",
          "data": {
            "text/html": [
              "<div>\n",
              "<style scoped>\n",
              "    .dataframe tbody tr th:only-of-type {\n",
              "        vertical-align: middle;\n",
              "    }\n",
              "\n",
              "    .dataframe tbody tr th {\n",
              "        vertical-align: top;\n",
              "    }\n",
              "\n",
              "    .dataframe thead th {\n",
              "        text-align: right;\n",
              "    }\n",
              "</style>\n",
              "<table border=\"1\" class=\"dataframe\">\n",
              "  <thead>\n",
              "    <tr style=\"text-align: right;\">\n",
              "      <th></th>\n",
              "      <th>Pais</th>\n",
              "      <th>1985</th>\n",
              "      <th>1986</th>\n",
              "      <th>1987</th>\n",
              "      <th>1988</th>\n",
              "      <th>1989</th>\n",
              "      <th>1990</th>\n",
              "      <th>1991</th>\n",
              "      <th>1992</th>\n",
              "      <th>1993</th>\n",
              "      <th>1994</th>\n",
              "      <th>1995</th>\n",
              "      <th>1996</th>\n",
              "      <th>1997</th>\n",
              "      <th>1998</th>\n",
              "      <th>1999</th>\n",
              "      <th>2000</th>\n",
              "      <th>2001</th>\n",
              "      <th>2002</th>\n",
              "      <th>2003</th>\n",
              "      <th>2004</th>\n",
              "      <th>2005</th>\n",
              "      <th>2006</th>\n",
              "      <th>2007</th>\n",
              "      <th>2008</th>\n",
              "      <th>2009</th>\n",
              "      <th>2010</th>\n",
              "      <th>2011</th>\n",
              "      <th>2012</th>\n",
              "    </tr>\n",
              "  </thead>\n",
              "  <tbody>\n",
              "    <tr>\n",
              "      <th>0</th>\n",
              "      <td>0</td>\n",
              "      <td>642.147964</td>\n",
              "      <td>435.85886</td>\n",
              "      <td>616.928696</td>\n",
              "      <td>NaN</td>\n",
              "      <td>NaN</td>\n",
              "      <td>NaN</td>\n",
              "      <td>NaN</td>\n",
              "      <td>NaN</td>\n",
              "      <td>NaN</td>\n",
              "      <td>NaN</td>\n",
              "      <td>NaN</td>\n",
              "      <td>NaN</td>\n",
              "      <td>NaN</td>\n",
              "      <td>NaN</td>\n",
              "      <td>NaN</td>\n",
              "      <td>NaN</td>\n",
              "      <td>NaN</td>\n",
              "      <td>NaN</td>\n",
              "      <td>NaN</td>\n",
              "      <td>NaN</td>\n",
              "      <td>NaN</td>\n",
              "      <td>NaN</td>\n",
              "      <td>NaN</td>\n",
              "      <td>NaN</td>\n",
              "      <td>NaN</td>\n",
              "      <td>NaN</td>\n",
              "      <td>NaN</td>\n",
              "      <td>NaN</td>\n",
              "    </tr>\n",
              "    <tr>\n",
              "      <th>1</th>\n",
              "      <td>1</td>\n",
              "      <td>13545.736900</td>\n",
              "      <td>12269.46240</td>\n",
              "      <td>12400.507300</td>\n",
              "      <td>12959.2948</td>\n",
              "      <td>12348.95700</td>\n",
              "      <td>12528.01650</td>\n",
              "      <td>12307.06380</td>\n",
              "      <td>11370.45310</td>\n",
              "      <td>11390.87480</td>\n",
              "      <td>11290.68820</td>\n",
              "      <td>11635.65940</td>\n",
              "      <td>12505.93080</td>\n",
              "      <td>13343.25000</td>\n",
              "      <td>13793.3670</td>\n",
              "      <td>14812.3660</td>\n",
              "      <td>13530.9530</td>\n",
              "      <td>12585.4020</td>\n",
              "      <td>13842.73810</td>\n",
              "      <td>14709.8840</td>\n",
              "      <td>14654.37400</td>\n",
              "      <td>14770.2643</td>\n",
              "      <td>14849.15940</td>\n",
              "      <td>15272.6330</td>\n",
              "      <td>15288.7756</td>\n",
              "      <td>15554.429500</td>\n",
              "      <td>17791.329900</td>\n",
              "      <td>17981.307290</td>\n",
              "      <td>18168.860000</td>\n",
              "    </tr>\n",
              "    <tr>\n",
              "      <th>2</th>\n",
              "      <td>2</td>\n",
              "      <td>36714.190830</td>\n",
              "      <td>35982.41365</td>\n",
              "      <td>46721.257740</td>\n",
              "      <td>35736.7658</td>\n",
              "      <td>39342.98618</td>\n",
              "      <td>50806.54269</td>\n",
              "      <td>43761.08127</td>\n",
              "      <td>64997.83986</td>\n",
              "      <td>39775.10719</td>\n",
              "      <td>44657.24335</td>\n",
              "      <td>48230.29864</td>\n",
              "      <td>47136.21579</td>\n",
              "      <td>33091.22462</td>\n",
              "      <td>35275.1251</td>\n",
              "      <td>36119.4252</td>\n",
              "      <td>34780.6811</td>\n",
              "      <td>34371.8411</td>\n",
              "      <td>34490.36900</td>\n",
              "      <td>35858.0150</td>\n",
              "      <td>36860.23340</td>\n",
              "      <td>35855.7384</td>\n",
              "      <td>36375.82200</td>\n",
              "      <td>36690.5340</td>\n",
              "      <td>37396.2940</td>\n",
              "      <td>38309.465130</td>\n",
              "      <td>40029.392100</td>\n",
              "      <td>40878.651960</td>\n",
              "      <td>41657.164850</td>\n",
              "    </tr>\n",
              "    <tr>\n",
              "      <th>3</th>\n",
              "      <td>3</td>\n",
              "      <td>11821.583100</td>\n",
              "      <td>12079.10500</td>\n",
              "      <td>12175.483200</td>\n",
              "      <td>12603.8867</td>\n",
              "      <td>12552.73690</td>\n",
              "      <td>11112.72956</td>\n",
              "      <td>8273.63240</td>\n",
              "      <td>6227.15320</td>\n",
              "      <td>6067.17990</td>\n",
              "      <td>6793.79630</td>\n",
              "      <td>6421.57130</td>\n",
              "      <td>6187.38410</td>\n",
              "      <td>5500.60700</td>\n",
              "      <td>5246.1311</td>\n",
              "      <td>6493.4872</td>\n",
              "      <td>8389.2767</td>\n",
              "      <td>6820.6244</td>\n",
              "      <td>7503.05976</td>\n",
              "      <td>7834.0157</td>\n",
              "      <td>7401.10155</td>\n",
              "      <td>8308.3856</td>\n",
              "      <td>8027.14955</td>\n",
              "      <td>9879.3935</td>\n",
              "      <td>8136.7850</td>\n",
              "      <td>8108.812387</td>\n",
              "      <td>8506.996034</td>\n",
              "      <td>8712.296365</td>\n",
              "      <td>8898.640911</td>\n",
              "    </tr>\n",
              "    <tr>\n",
              "      <th>4</th>\n",
              "      <td>4</td>\n",
              "      <td>NaN</td>\n",
              "      <td>NaN</td>\n",
              "      <td>NaN</td>\n",
              "      <td>NaN</td>\n",
              "      <td>NaN</td>\n",
              "      <td>NaN</td>\n",
              "      <td>NaN</td>\n",
              "      <td>NaN</td>\n",
              "      <td>NaN</td>\n",
              "      <td>NaN</td>\n",
              "      <td>NaN</td>\n",
              "      <td>NaN</td>\n",
              "      <td>NaN</td>\n",
              "      <td>NaN</td>\n",
              "      <td>NaN</td>\n",
              "      <td>NaN</td>\n",
              "      <td>NaN</td>\n",
              "      <td>NaN</td>\n",
              "      <td>NaN</td>\n",
              "      <td>NaN</td>\n",
              "      <td>NaN</td>\n",
              "      <td>NaN</td>\n",
              "      <td>NaN</td>\n",
              "      <td>NaN</td>\n",
              "      <td>NaN</td>\n",
              "      <td>NaN</td>\n",
              "      <td>NaN</td>\n",
              "      <td>NaN</td>\n",
              "    </tr>\n",
              "    <tr>\n",
              "      <th>...</th>\n",
              "      <td>...</td>\n",
              "      <td>...</td>\n",
              "      <td>...</td>\n",
              "      <td>...</td>\n",
              "      <td>...</td>\n",
              "      <td>...</td>\n",
              "      <td>...</td>\n",
              "      <td>...</td>\n",
              "      <td>...</td>\n",
              "      <td>...</td>\n",
              "      <td>...</td>\n",
              "      <td>...</td>\n",
              "      <td>...</td>\n",
              "      <td>...</td>\n",
              "      <td>...</td>\n",
              "      <td>...</td>\n",
              "      <td>...</td>\n",
              "      <td>...</td>\n",
              "      <td>...</td>\n",
              "      <td>...</td>\n",
              "      <td>...</td>\n",
              "      <td>...</td>\n",
              "      <td>...</td>\n",
              "      <td>...</td>\n",
              "      <td>...</td>\n",
              "      <td>...</td>\n",
              "      <td>...</td>\n",
              "      <td>...</td>\n",
              "      <td>...</td>\n",
              "    </tr>\n",
              "    <tr>\n",
              "      <th>259</th>\n",
              "      <td>259</td>\n",
              "      <td>NaN</td>\n",
              "      <td>NaN</td>\n",
              "      <td>NaN</td>\n",
              "      <td>NaN</td>\n",
              "      <td>NaN</td>\n",
              "      <td>NaN</td>\n",
              "      <td>NaN</td>\n",
              "      <td>NaN</td>\n",
              "      <td>NaN</td>\n",
              "      <td>NaN</td>\n",
              "      <td>NaN</td>\n",
              "      <td>NaN</td>\n",
              "      <td>NaN</td>\n",
              "      <td>NaN</td>\n",
              "      <td>NaN</td>\n",
              "      <td>NaN</td>\n",
              "      <td>NaN</td>\n",
              "      <td>NaN</td>\n",
              "      <td>NaN</td>\n",
              "      <td>NaN</td>\n",
              "      <td>NaN</td>\n",
              "      <td>NaN</td>\n",
              "      <td>NaN</td>\n",
              "      <td>NaN</td>\n",
              "      <td>NaN</td>\n",
              "      <td>NaN</td>\n",
              "      <td>NaN</td>\n",
              "      <td>NaN</td>\n",
              "    </tr>\n",
              "    <tr>\n",
              "      <th>260</th>\n",
              "      <td>260</td>\n",
              "      <td>9605.350600</td>\n",
              "      <td>10010.30320</td>\n",
              "      <td>10103.002600</td>\n",
              "      <td>11644.3834</td>\n",
              "      <td>12042.57500</td>\n",
              "      <td>12850.01340</td>\n",
              "      <td>14536.44773</td>\n",
              "      <td>15337.67187</td>\n",
              "      <td>14603.01360</td>\n",
              "      <td>16621.06553</td>\n",
              "      <td>17884.47327</td>\n",
              "      <td>18386.30430</td>\n",
              "      <td>19676.01703</td>\n",
              "      <td>20869.7911</td>\n",
              "      <td>22895.6985</td>\n",
              "      <td>24225.1802</td>\n",
              "      <td>25210.4164</td>\n",
              "      <td>26580.10330</td>\n",
              "      <td>28983.2226</td>\n",
              "      <td>29514.27800</td>\n",
              "      <td>32666.1890</td>\n",
              "      <td>34959.44600</td>\n",
              "      <td>36225.6250</td>\n",
              "      <td>36800.2260</td>\n",
              "      <td>37027.203950</td>\n",
              "      <td>38865.292430</td>\n",
              "      <td>39949.082160</td>\n",
              "      <td>40924.627690</td>\n",
              "    </tr>\n",
              "    <tr>\n",
              "      <th>261</th>\n",
              "      <td>261</td>\n",
              "      <td>NaN</td>\n",
              "      <td>NaN</td>\n",
              "      <td>NaN</td>\n",
              "      <td>NaN</td>\n",
              "      <td>NaN</td>\n",
              "      <td>349202.00200</td>\n",
              "      <td>343391.11800</td>\n",
              "      <td>353846.54900</td>\n",
              "      <td>347840.72700</td>\n",
              "      <td>355673.58000</td>\n",
              "      <td>371350.20500</td>\n",
              "      <td>383673.27100</td>\n",
              "      <td>403030.55400</td>\n",
              "      <td>457895.8960</td>\n",
              "      <td>430853.8360</td>\n",
              "      <td>420482.7530</td>\n",
              "      <td>416031.2410</td>\n",
              "      <td>434071.07500</td>\n",
              "      <td>456334.1260</td>\n",
              "      <td>472713.79100</td>\n",
              "      <td>498312.8860</td>\n",
              "      <td>480054.73000</td>\n",
              "      <td>502130.2550</td>\n",
              "      <td>NaN</td>\n",
              "      <td>NaN</td>\n",
              "      <td>NaN</td>\n",
              "      <td>NaN</td>\n",
              "      <td>NaN</td>\n",
              "    </tr>\n",
              "    <tr>\n",
              "      <th>262</th>\n",
              "      <td>262</td>\n",
              "      <td>144149.260000</td>\n",
              "      <td>134957.63900</td>\n",
              "      <td>188042.331000</td>\n",
              "      <td>132223.5680</td>\n",
              "      <td>149004.96500</td>\n",
              "      <td>209648.82010</td>\n",
              "      <td>174044.66640</td>\n",
              "      <td>278259.67110</td>\n",
              "      <td>156527.22460</td>\n",
              "      <td>182686.65930</td>\n",
              "      <td>185179.11430</td>\n",
              "      <td>156680.68680</td>\n",
              "      <td>149986.74710</td>\n",
              "      <td>448613.6431</td>\n",
              "      <td>328963.9600</td>\n",
              "      <td>290812.3696</td>\n",
              "      <td>297452.7550</td>\n",
              "      <td>300362.20100</td>\n",
              "      <td>356024.8450</td>\n",
              "      <td>368995.69500</td>\n",
              "      <td>396446.4810</td>\n",
              "      <td>314793.49700</td>\n",
              "      <td>341005.6690</td>\n",
              "      <td>321163.5190</td>\n",
              "      <td>266118.483600</td>\n",
              "      <td>319784.630400</td>\n",
              "      <td>320024.697000</td>\n",
              "      <td>320254.218300</td>\n",
              "    </tr>\n",
              "    <tr>\n",
              "      <th>263</th>\n",
              "      <td>263</td>\n",
              "      <td>23895.775000</td>\n",
              "      <td>26007.14100</td>\n",
              "      <td>28160.267000</td>\n",
              "      <td>29369.6430</td>\n",
              "      <td>30264.47100</td>\n",
              "      <td>35100.59000</td>\n",
              "      <td>34132.52900</td>\n",
              "      <td>38275.97800</td>\n",
              "      <td>30183.41600</td>\n",
              "      <td>30208.73400</td>\n",
              "      <td>30376.98600</td>\n",
              "      <td>30570.23900</td>\n",
              "      <td>29469.42600</td>\n",
              "      <td>76391.8040</td>\n",
              "      <td>66724.6520</td>\n",
              "      <td>51434.5350</td>\n",
              "      <td>58452.5190</td>\n",
              "      <td>50281.89500</td>\n",
              "      <td>48216.9330</td>\n",
              "      <td>61742.54400</td>\n",
              "      <td>59894.6030</td>\n",
              "      <td>55535.28000</td>\n",
              "      <td>60917.8250</td>\n",
              "      <td>68840.7060</td>\n",
              "      <td>67914.131010</td>\n",
              "      <td>71019.116730</td>\n",
              "      <td>71561.952250</td>\n",
              "      <td>72057.803320</td>\n",
              "    </tr>\n",
              "  </tbody>\n",
              "</table>\n",
              "<p>264 rows × 29 columns</p>\n",
              "</div>"
            ],
            "text/plain": [
              "     Pais           1985  ...           2011           2012\n",
              "0       0     642.147964  ...            NaN            NaN\n",
              "1       1   13545.736900  ...   17981.307290   18168.860000\n",
              "2       2   36714.190830  ...   40878.651960   41657.164850\n",
              "3       3   11821.583100  ...    8712.296365    8898.640911\n",
              "4       4            NaN  ...            NaN            NaN\n",
              "..    ...            ...  ...            ...            ...\n",
              "259   259            NaN  ...            NaN            NaN\n",
              "260   260    9605.350600  ...   39949.082160   40924.627690\n",
              "261   261            NaN  ...            NaN            NaN\n",
              "262   262  144149.260000  ...  320024.697000  320254.218300\n",
              "263   263   23895.775000  ...   71561.952250   72057.803320\n",
              "\n",
              "[264 rows x 29 columns]"
            ]
          },
          "metadata": {
            "tags": []
          },
          "execution_count": 35
        }
      ]
    },
    {
      "cell_type": "code",
      "metadata": {
        "id": "r8BvnK2RREeK"
      },
      "source": [
        "Data_1985=pd.read_excel(Emisiones[0],usecols=[1],)\n",
        "TO1985=((Data_1985).sum())\n",
        "Data_1986=pd.read_excel(Emisiones[0],usecols=[2])\n",
        "TO1986=((Data_1986).sum())\n",
        "Data_1987=pd.read_excel(Emisiones[0],usecols=[3])\n",
        "TO1987=((Data_1987).sum())\n",
        "Data_1988=pd.read_excel(Emisiones[0],usecols=[4])\n",
        "TO1988=((Data_1988).sum())\n",
        "Data_1989=pd.read_excel(Emisiones[0],usecols=[5])\n",
        "TO1989=((Data_1989).sum())\n",
        "Data_1990=pd.read_excel(Emisiones[0],usecols=[6])\n",
        "TO1990=((Data_1990).sum())\n",
        "Data_1991=pd.read_excel(Emisiones[0],usecols=[7])\n",
        "TO1991=((Data_1991).sum())\n",
        "Data_1992=pd.read_excel(Emisiones[0],usecols=[8])\n",
        "TO1992=((Data_1992).sum())\n",
        "Data_1993=pd.read_excel(Emisiones[0],usecols=[9])\n",
        "TO1993=((Data_1993).sum())\n",
        "Data_1994=pd.read_excel(Emisiones[0],usecols=[10])\n",
        "TO1994=((Data_1994).sum())\n",
        "Data_1995=pd.read_excel(Emisiones[0],usecols=[11])\n",
        "TO1995=((Data_1995).sum())\n",
        "Data_1996=pd.read_excel(Emisiones[0],usecols=[12])\n",
        "TO1996=((Data_1996).sum())\n",
        "Data_1997=pd.read_excel(Emisiones[0],usecols=[13])\n",
        "TO1997=((Data_1997).sum())\n",
        "Data_1998=pd.read_excel(Emisiones[0],usecols=[14])\n",
        "TO1998=((Data_1998).sum())\n",
        "Data_1999=pd.read_excel(Emisiones[0],usecols=[15])\n",
        "TO1999=((Data_1999).sum())\n",
        "Data_2000=pd.read_excel(Emisiones[0],usecols=[16])\n",
        "TO2000=((Data_2000).sum())\n",
        "Data_2001=pd.read_excel(Emisiones[0],usecols=[17])\n",
        "TO2001=((Data_2001).sum())\n",
        "Data_2002=pd.read_excel(Emisiones[0],usecols=[18])\n",
        "TO2002=((Data_2002).sum())\n",
        "Data_2003=pd.read_excel(Emisiones[0],usecols=[19])\n",
        "TO2003=((Data_2003).sum())\n",
        "Data_2004=pd.read_excel(Emisiones[0],usecols=[20])\n",
        "TO2004=((Data_2004).sum())\n",
        "Data_2005=pd.read_excel(Emisiones[0],usecols=[21])\n",
        "TO2005=((Data_2005).sum())\n",
        "Data_2006=pd.read_excel(Emisiones[0],usecols=[22])\n",
        "TO2006=((Data_2006).sum())\n",
        "Data_2007=pd.read_excel(Emisiones[0],usecols=[23])\n",
        "TO2007=((Data_2007).sum())\n",
        "Data_2008=pd.read_excel(Emisiones[0],usecols=[24])\n",
        "TO2008=((Data_2008).sum())\n",
        "Data_2009=pd.read_excel(Emisiones[0],usecols=[25])\n",
        "TO2009=((Data_2009).sum())\n",
        "Data_2010=pd.read_excel(Emisiones[0],usecols=[26])\n",
        "TO2010=((Data_2010).sum())\n",
        "Data_2011=pd.read_excel(Emisiones[0],usecols=[27])\n",
        "TO2011=((Data_2011).sum())\n",
        "Data_2012=pd.read_excel(Emisiones[0],usecols=[28])\n",
        "TO2012=((Data_2012).sum())\n"
      ],
      "execution_count": null,
      "outputs": []
    },
    {
      "cell_type": "code",
      "metadata": {
        "colab": {
          "base_uri": "https://localhost:8080/"
        },
        "id": "a3SmlCAgZa7d",
        "outputId": "2ee56a85-d76e-47c5-e1c7-26af2c491169"
      },
      "source": [
        "TO1985"
      ],
      "execution_count": null,
      "outputs": [
        {
          "output_type": "execute_result",
          "data": {
            "text/plain": [
              "1985    3.009652e+08\n",
              "dtype: float64"
            ]
          },
          "metadata": {
            "tags": []
          },
          "execution_count": 51
        }
      ]
    },
    {
      "cell_type": "code",
      "metadata": {
        "colab": {
          "base_uri": "https://localhost:8080/"
        },
        "id": "vDCxVmPkYZ-v",
        "outputId": "997841f0-e8b2-4252-84cc-c62e81adc483"
      },
      "source": [
        "EMISION_A=[]\n",
        "EMISION_A.append((TO1985,TO1986,TO1987,TO1988,TO1989,TO1990,TO1991,TO1992,TO1993,TO1994,TO1995,TO1996,TO1997,TO1998,TO1999,TO2000,TO2001,TO2002,TO2003,TO2004,TO2005,TO2006,TO2007,TO2008,TO2009,TO2010,TO2011,TO2012))\n",
        "EMISION_A\n"
      ],
      "execution_count": null,
      "outputs": [
        {
          "output_type": "execute_result",
          "data": {
            "text/plain": [
              "[(1985    3.009652e+08\n",
              "  dtype: float64, 1986    3.113512e+08\n",
              "  dtype: float64, 1987    3.346810e+08\n",
              "  dtype: float64, 1988    3.226154e+08\n",
              "  dtype: float64, 1989    3.275829e+08\n",
              "  dtype: float64, 1990    3.579425e+08\n",
              "  dtype: float64, 1991    3.601796e+08\n",
              "  dtype: float64, 1992    3.767124e+08\n",
              "  dtype: float64, 1993    3.536055e+08\n",
              "  dtype: float64, 1994    3.595600e+08\n",
              "  dtype: float64, 1995    3.631540e+08\n",
              "  dtype: float64, 1996    3.626353e+08\n",
              "  dtype: float64, 1997    4.047226e+08\n",
              "  dtype: float64, 1998    4.172257e+08\n",
              "  dtype: float64, 1999    3.794619e+08\n",
              "  dtype: float64, 2000    3.747364e+08\n",
              "  dtype: float64, 2001    3.719612e+08\n",
              "  dtype: float64, 2002    4.000954e+08\n",
              "  dtype: float64, 2003    4.157640e+08\n",
              "  dtype: float64, 2004    4.241033e+08\n",
              "  dtype: float64, 2005    4.445257e+08\n",
              "  dtype: float64, 2006    4.580431e+08\n",
              "  dtype: float64, 2007    4.754359e+08\n",
              "  dtype: float64, 2008    4.527565e+08\n",
              "  dtype: float64, 2009    4.471391e+08\n",
              "  dtype: float64, 2010    4.749783e+08\n",
              "  dtype: float64, 2011    5.032110e+08\n",
              "  dtype: float64, 2012    5.082169e+08\n",
              "  dtype: float64)]"
            ]
          },
          "metadata": {
            "tags": []
          },
          "execution_count": 58
        }
      ]
    },
    {
      "cell_type": "code",
      "metadata": {
        "id": "enGQrciHdx6M"
      },
      "source": [
        "EMISION_AY=[3.009652,3.113512,3.346810,3.226154,3.275829,3.579425,3.601796,3.767124,3.536055,3.595600,3.631540,3.626353,4.047226,4.172257,3.794619,3.747364,3.719612,4.000954,4.157640,4.241033,4.445257,4.580431,4.754359,4.527565,4.471391,4.749783,5.032110,5.082169]"
      ],
      "execution_count": null,
      "outputs": []
    },
    {
      "cell_type": "code",
      "metadata": {
        "colab": {
          "base_uri": "https://localhost:8080/",
          "height": 450
        },
        "id": "5DJcNRaCc3mn",
        "outputId": "bf80276c-bf40-4836-ce32-ba19e2017e5a"
      },
      "source": [
        "plt.figure(figsize=(20,10))\n",
        "plt.plot(EMISION_AY,color=\"red\")\n",
        "plt.ylabel('MILES DE MILLONES KT')  \n",
        "plt.title('EMISON TOTAL ANUAL EN MILES DE MILLONES KT DE EQUIVALENTE DE CO2 (1985-2012)')         \n",
        "plt.show()     "
      ],
      "execution_count": null,
      "outputs": [
        {
          "output_type": "display_data",
          "data": {
            "image/png": "[encoded data removed]",
            "text/plain": [
              "<Figure size 1440x720 with 1 Axes>"
            ]
          },
          "metadata": {
            "tags": [],
            "needs_background": "light"
          }
        }
      ]
    }
  ]
}